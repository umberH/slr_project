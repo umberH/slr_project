{
 "cells": [
  {
   "cell_type": "code",
   "execution_count": 1,
   "metadata": {},
   "outputs": [],
   "source": [
    "import pandas as pd\n",
    "import os\n",
    "import inspect\n",
    "\n",
    "\n",
    "# Modelling\n",
    "from sklearn.preprocessing import LabelEncoder\n",
    "from sklearn.ensemble import RandomForestClassifier\n",
    "from sklearn.neighbors import KNeighborsClassifier\n",
    "from sklearn.metrics import accuracy_score, confusion_matrix, precision_score, recall_score, ConfusionMatrixDisplay\n",
    "from sklearn.model_selection import RandomizedSearchCV, train_test_split\n",
    "from scipy.stats import randint\n",
    "\n",
    "# Tree Visualisation\n",
    "from sklearn.tree import export_graphviz\n",
    "from IPython.display import Image\n",
    "import graphviz"
   ]
  },
  {
   "cell_type": "code",
   "execution_count": 2,
   "metadata": {},
   "outputs": [
    {
     "name": "stdout",
     "output_type": "stream",
     "text": [
      "C:\\Users\\ambreen.hanif\\AppData\\Local\\Temp\\ipykernel_21864\n",
      "File location using os.getcwd(): c:\\Users\\ambreen.hanif\\Github\\slr_project\\experiments\\churn\n"
     ]
    }
   ],
   "source": [
    "script_directory = os.path.dirname(os.path.abspath(\n",
    "inspect.getfile(inspect.currentframe())))\n",
    "\n",
    "print(script_directory)\n",
    "print(\"File location using os.getcwd():\", os.getcwd())"
   ]
  },
  {
   "cell_type": "code",
   "execution_count": 3,
   "metadata": {},
   "outputs": [],
   "source": [
    "def rename_files(file):\n",
    "    file = file.replace(\" \", \"_\").replace(\"(\", \"\").replace(\")\", \"\").replace(\"-\", \"_\").replace(\":\", \"_\").replace(\",\", \"_\")\n",
    "    return file.lower()"
   ]
  },
  {
   "cell_type": "code",
   "execution_count": 4,
   "metadata": {},
   "outputs": [
    {
     "name": "stdout",
     "output_type": "stream",
     "text": [
      "['bank_customer_churn_prediction.csv', 'e_commerce_dataset.xlsx', 'telecom_customer_churn.csv', 'telecom_data_dictionary.csv', 'telecom_zipcode_population.csv']\n",
      "bank_customer_churn_prediction.csv\n",
      "e_commerce_dataset.xlsx\n",
      "telecom_customer_churn.csv\n",
      "telecom_data_dictionary.csv\n",
      "telecom_zipcode_population.csv\n"
     ]
    }
   ],
   "source": [
    "# print(os.chdir())\n",
    "# os.chdir\n",
    "path = '../../data/churn_examples/'\n",
    "files = os.listdir(path)\n",
    "print(files)\n",
    "\n",
    "\n",
    "for index, file in enumerate(files):\n",
    "    new_name = rename_files(file)\n",
    "    print(new_name)\n",
    "    os.rename(os.path.join(path, file), os.path.join(path, new_name))"
   ]
  },
  {
   "cell_type": "code",
   "execution_count": 5,
   "metadata": {},
   "outputs": [],
   "source": [
    "bank_data = pd.read_csv('../../data/churn_examples/bank_customer_churn_prediction.csv')"
   ]
  },
  {
   "cell_type": "code",
   "execution_count": 6,
   "metadata": {},
   "outputs": [
    {
     "data": {
      "text/html": [
       "<div>\n",
       "<style scoped>\n",
       "    .dataframe tbody tr th:only-of-type {\n",
       "        vertical-align: middle;\n",
       "    }\n",
       "\n",
       "    .dataframe tbody tr th {\n",
       "        vertical-align: top;\n",
       "    }\n",
       "\n",
       "    .dataframe thead th {\n",
       "        text-align: right;\n",
       "    }\n",
       "</style>\n",
       "<table border=\"1\" class=\"dataframe\">\n",
       "  <thead>\n",
       "    <tr style=\"text-align: right;\">\n",
       "      <th></th>\n",
       "      <th>customer_id</th>\n",
       "      <th>credit_score</th>\n",
       "      <th>country</th>\n",
       "      <th>gender</th>\n",
       "      <th>age</th>\n",
       "      <th>tenure</th>\n",
       "      <th>balance</th>\n",
       "      <th>products_number</th>\n",
       "      <th>credit_card</th>\n",
       "      <th>active_member</th>\n",
       "      <th>estimated_salary</th>\n",
       "      <th>churn</th>\n",
       "    </tr>\n",
       "  </thead>\n",
       "  <tbody>\n",
       "    <tr>\n",
       "      <th>0</th>\n",
       "      <td>15634602</td>\n",
       "      <td>619</td>\n",
       "      <td>France</td>\n",
       "      <td>Female</td>\n",
       "      <td>42</td>\n",
       "      <td>2</td>\n",
       "      <td>0.00</td>\n",
       "      <td>1</td>\n",
       "      <td>1</td>\n",
       "      <td>1</td>\n",
       "      <td>101348.88</td>\n",
       "      <td>1</td>\n",
       "    </tr>\n",
       "    <tr>\n",
       "      <th>1</th>\n",
       "      <td>15647311</td>\n",
       "      <td>608</td>\n",
       "      <td>Spain</td>\n",
       "      <td>Female</td>\n",
       "      <td>41</td>\n",
       "      <td>1</td>\n",
       "      <td>83807.86</td>\n",
       "      <td>1</td>\n",
       "      <td>0</td>\n",
       "      <td>1</td>\n",
       "      <td>112542.58</td>\n",
       "      <td>0</td>\n",
       "    </tr>\n",
       "    <tr>\n",
       "      <th>2</th>\n",
       "      <td>15619304</td>\n",
       "      <td>502</td>\n",
       "      <td>France</td>\n",
       "      <td>Female</td>\n",
       "      <td>42</td>\n",
       "      <td>8</td>\n",
       "      <td>159660.80</td>\n",
       "      <td>3</td>\n",
       "      <td>1</td>\n",
       "      <td>0</td>\n",
       "      <td>113931.57</td>\n",
       "      <td>1</td>\n",
       "    </tr>\n",
       "    <tr>\n",
       "      <th>3</th>\n",
       "      <td>15701354</td>\n",
       "      <td>699</td>\n",
       "      <td>France</td>\n",
       "      <td>Female</td>\n",
       "      <td>39</td>\n",
       "      <td>1</td>\n",
       "      <td>0.00</td>\n",
       "      <td>2</td>\n",
       "      <td>0</td>\n",
       "      <td>0</td>\n",
       "      <td>93826.63</td>\n",
       "      <td>0</td>\n",
       "    </tr>\n",
       "    <tr>\n",
       "      <th>4</th>\n",
       "      <td>15737888</td>\n",
       "      <td>850</td>\n",
       "      <td>Spain</td>\n",
       "      <td>Female</td>\n",
       "      <td>43</td>\n",
       "      <td>2</td>\n",
       "      <td>125510.82</td>\n",
       "      <td>1</td>\n",
       "      <td>1</td>\n",
       "      <td>1</td>\n",
       "      <td>79084.10</td>\n",
       "      <td>0</td>\n",
       "    </tr>\n",
       "  </tbody>\n",
       "</table>\n",
       "</div>"
      ],
      "text/plain": [
       "   customer_id  credit_score country  gender  age  tenure    balance  \\\n",
       "0     15634602           619  France  Female   42       2       0.00   \n",
       "1     15647311           608   Spain  Female   41       1   83807.86   \n",
       "2     15619304           502  France  Female   42       8  159660.80   \n",
       "3     15701354           699  France  Female   39       1       0.00   \n",
       "4     15737888           850   Spain  Female   43       2  125510.82   \n",
       "\n",
       "   products_number  credit_card  active_member  estimated_salary  churn  \n",
       "0                1            1              1         101348.88      1  \n",
       "1                1            0              1         112542.58      0  \n",
       "2                3            1              0         113931.57      1  \n",
       "3                2            0              0          93826.63      0  \n",
       "4                1            1              1          79084.10      0  "
      ]
     },
     "execution_count": 6,
     "metadata": {},
     "output_type": "execute_result"
    }
   ],
   "source": [
    "bank_data.head()"
   ]
  },
  {
   "cell_type": "code",
   "execution_count": 7,
   "metadata": {},
   "outputs": [
    {
     "name": "stdout",
     "output_type": "stream",
     "text": [
      "<class 'pandas.core.frame.DataFrame'>\n",
      "RangeIndex: 10000 entries, 0 to 9999\n",
      "Data columns (total 12 columns):\n",
      " #   Column            Non-Null Count  Dtype  \n",
      "---  ------            --------------  -----  \n",
      " 0   customer_id       10000 non-null  int64  \n",
      " 1   credit_score      10000 non-null  int64  \n",
      " 2   country           10000 non-null  object \n",
      " 3   gender            10000 non-null  object \n",
      " 4   age               10000 non-null  int64  \n",
      " 5   tenure            10000 non-null  int64  \n",
      " 6   balance           10000 non-null  float64\n",
      " 7   products_number   10000 non-null  int64  \n",
      " 8   credit_card       10000 non-null  int64  \n",
      " 9   active_member     10000 non-null  int64  \n",
      " 10  estimated_salary  10000 non-null  float64\n",
      " 11  churn             10000 non-null  int64  \n",
      "dtypes: float64(2), int64(8), object(2)\n",
      "memory usage: 937.6+ KB\n"
     ]
    }
   ],
   "source": [
    "bank_data.info()"
   ]
  },
  {
   "cell_type": "code",
   "execution_count": 8,
   "metadata": {},
   "outputs": [
    {
     "data": {
      "text/html": [
       "<div>\n",
       "<style scoped>\n",
       "    .dataframe tbody tr th:only-of-type {\n",
       "        vertical-align: middle;\n",
       "    }\n",
       "\n",
       "    .dataframe tbody tr th {\n",
       "        vertical-align: top;\n",
       "    }\n",
       "\n",
       "    .dataframe thead th {\n",
       "        text-align: right;\n",
       "    }\n",
       "</style>\n",
       "<table border=\"1\" class=\"dataframe\">\n",
       "  <thead>\n",
       "    <tr style=\"text-align: right;\">\n",
       "      <th></th>\n",
       "      <th>customer_id</th>\n",
       "      <th>credit_score</th>\n",
       "      <th>country</th>\n",
       "      <th>gender</th>\n",
       "      <th>age</th>\n",
       "      <th>tenure</th>\n",
       "      <th>balance</th>\n",
       "      <th>products_number</th>\n",
       "      <th>credit_card</th>\n",
       "      <th>active_member</th>\n",
       "      <th>estimated_salary</th>\n",
       "      <th>churn</th>\n",
       "    </tr>\n",
       "  </thead>\n",
       "  <tbody>\n",
       "    <tr>\n",
       "      <th>0</th>\n",
       "      <td>15634602</td>\n",
       "      <td>619</td>\n",
       "      <td>0</td>\n",
       "      <td>0</td>\n",
       "      <td>42</td>\n",
       "      <td>2</td>\n",
       "      <td>0.00</td>\n",
       "      <td>1</td>\n",
       "      <td>1</td>\n",
       "      <td>1</td>\n",
       "      <td>101348.88</td>\n",
       "      <td>1</td>\n",
       "    </tr>\n",
       "    <tr>\n",
       "      <th>1</th>\n",
       "      <td>15647311</td>\n",
       "      <td>608</td>\n",
       "      <td>2</td>\n",
       "      <td>0</td>\n",
       "      <td>41</td>\n",
       "      <td>1</td>\n",
       "      <td>83807.86</td>\n",
       "      <td>1</td>\n",
       "      <td>0</td>\n",
       "      <td>1</td>\n",
       "      <td>112542.58</td>\n",
       "      <td>0</td>\n",
       "    </tr>\n",
       "    <tr>\n",
       "      <th>2</th>\n",
       "      <td>15619304</td>\n",
       "      <td>502</td>\n",
       "      <td>0</td>\n",
       "      <td>0</td>\n",
       "      <td>42</td>\n",
       "      <td>8</td>\n",
       "      <td>159660.80</td>\n",
       "      <td>3</td>\n",
       "      <td>1</td>\n",
       "      <td>0</td>\n",
       "      <td>113931.57</td>\n",
       "      <td>1</td>\n",
       "    </tr>\n",
       "    <tr>\n",
       "      <th>3</th>\n",
       "      <td>15701354</td>\n",
       "      <td>699</td>\n",
       "      <td>0</td>\n",
       "      <td>0</td>\n",
       "      <td>39</td>\n",
       "      <td>1</td>\n",
       "      <td>0.00</td>\n",
       "      <td>2</td>\n",
       "      <td>0</td>\n",
       "      <td>0</td>\n",
       "      <td>93826.63</td>\n",
       "      <td>0</td>\n",
       "    </tr>\n",
       "    <tr>\n",
       "      <th>4</th>\n",
       "      <td>15737888</td>\n",
       "      <td>850</td>\n",
       "      <td>2</td>\n",
       "      <td>0</td>\n",
       "      <td>43</td>\n",
       "      <td>2</td>\n",
       "      <td>125510.82</td>\n",
       "      <td>1</td>\n",
       "      <td>1</td>\n",
       "      <td>1</td>\n",
       "      <td>79084.10</td>\n",
       "      <td>0</td>\n",
       "    </tr>\n",
       "  </tbody>\n",
       "</table>\n",
       "</div>"
      ],
      "text/plain": [
       "   customer_id  credit_score  country  gender  age  tenure    balance  \\\n",
       "0     15634602           619        0       0   42       2       0.00   \n",
       "1     15647311           608        2       0   41       1   83807.86   \n",
       "2     15619304           502        0       0   42       8  159660.80   \n",
       "3     15701354           699        0       0   39       1       0.00   \n",
       "4     15737888           850        2       0   43       2  125510.82   \n",
       "\n",
       "   products_number  credit_card  active_member  estimated_salary  churn  \n",
       "0                1            1              1         101348.88      1  \n",
       "1                1            0              1         112542.58      0  \n",
       "2                3            1              0         113931.57      1  \n",
       "3                2            0              0          93826.63      0  \n",
       "4                1            1              1          79084.10      0  "
      ]
     },
     "execution_count": 8,
     "metadata": {},
     "output_type": "execute_result"
    }
   ],
   "source": [
    "le = LabelEncoder()\n",
    "\n",
    "bank_data['country']   = le.fit_transform(bank_data['country'])\n",
    "bank_data['gender'] = le.fit_transform(bank_data['gender'])\n",
    "bank_data.head()"
   ]
  },
  {
   "cell_type": "code",
   "execution_count": 9,
   "metadata": {},
   "outputs": [],
   "source": [
    "X = bank_data.drop('churn', axis=1)\n",
    "y = bank_data['churn']\n",
    "\n",
    "X_train, X_test, y_train, y_test = train_test_split(X, y, test_size=0.25, random_state=42)"
   ]
  },
  {
   "cell_type": "code",
   "execution_count": 10,
   "metadata": {},
   "outputs": [
    {
     "data": {
      "text/plain": [
       "'3.1.0'"
      ]
     },
     "execution_count": 10,
     "metadata": {},
     "output_type": "execute_result"
    }
   ],
   "source": [
    "import pycaret\n",
    "pycaret.__version__"
   ]
  },
  {
   "cell_type": "code",
   "execution_count": 12,
   "metadata": {},
   "outputs": [
    {
     "data": {
      "text/html": [
       "<style type=\"text/css\">\n",
       "#T_23b6a_row8_col1 {\n",
       "  background-color: lightgreen;\n",
       "}\n",
       "</style>\n",
       "<table id=\"T_23b6a\">\n",
       "  <thead>\n",
       "    <tr>\n",
       "      <th class=\"blank level0\" >&nbsp;</th>\n",
       "      <th id=\"T_23b6a_level0_col0\" class=\"col_heading level0 col0\" >Description</th>\n",
       "      <th id=\"T_23b6a_level0_col1\" class=\"col_heading level0 col1\" >Value</th>\n",
       "    </tr>\n",
       "  </thead>\n",
       "  <tbody>\n",
       "    <tr>\n",
       "      <th id=\"T_23b6a_level0_row0\" class=\"row_heading level0 row0\" >0</th>\n",
       "      <td id=\"T_23b6a_row0_col0\" class=\"data row0 col0\" >Session id</td>\n",
       "      <td id=\"T_23b6a_row0_col1\" class=\"data row0 col1\" >123</td>\n",
       "    </tr>\n",
       "    <tr>\n",
       "      <th id=\"T_23b6a_level0_row1\" class=\"row_heading level0 row1\" >1</th>\n",
       "      <td id=\"T_23b6a_row1_col0\" class=\"data row1 col0\" >Target</td>\n",
       "      <td id=\"T_23b6a_row1_col1\" class=\"data row1 col1\" >churn</td>\n",
       "    </tr>\n",
       "    <tr>\n",
       "      <th id=\"T_23b6a_level0_row2\" class=\"row_heading level0 row2\" >2</th>\n",
       "      <td id=\"T_23b6a_row2_col0\" class=\"data row2 col0\" >Target type</td>\n",
       "      <td id=\"T_23b6a_row2_col1\" class=\"data row2 col1\" >Binary</td>\n",
       "    </tr>\n",
       "    <tr>\n",
       "      <th id=\"T_23b6a_level0_row3\" class=\"row_heading level0 row3\" >3</th>\n",
       "      <td id=\"T_23b6a_row3_col0\" class=\"data row3 col0\" >Original data shape</td>\n",
       "      <td id=\"T_23b6a_row3_col1\" class=\"data row3 col1\" >(10000, 12)</td>\n",
       "    </tr>\n",
       "    <tr>\n",
       "      <th id=\"T_23b6a_level0_row4\" class=\"row_heading level0 row4\" >4</th>\n",
       "      <td id=\"T_23b6a_row4_col0\" class=\"data row4 col0\" >Transformed data shape</td>\n",
       "      <td id=\"T_23b6a_row4_col1\" class=\"data row4 col1\" >(10000, 12)</td>\n",
       "    </tr>\n",
       "    <tr>\n",
       "      <th id=\"T_23b6a_level0_row5\" class=\"row_heading level0 row5\" >5</th>\n",
       "      <td id=\"T_23b6a_row5_col0\" class=\"data row5 col0\" >Transformed train set shape</td>\n",
       "      <td id=\"T_23b6a_row5_col1\" class=\"data row5 col1\" >(7000, 12)</td>\n",
       "    </tr>\n",
       "    <tr>\n",
       "      <th id=\"T_23b6a_level0_row6\" class=\"row_heading level0 row6\" >6</th>\n",
       "      <td id=\"T_23b6a_row6_col0\" class=\"data row6 col0\" >Transformed test set shape</td>\n",
       "      <td id=\"T_23b6a_row6_col1\" class=\"data row6 col1\" >(3000, 12)</td>\n",
       "    </tr>\n",
       "    <tr>\n",
       "      <th id=\"T_23b6a_level0_row7\" class=\"row_heading level0 row7\" >7</th>\n",
       "      <td id=\"T_23b6a_row7_col0\" class=\"data row7 col0\" >Numeric features</td>\n",
       "      <td id=\"T_23b6a_row7_col1\" class=\"data row7 col1\" >11</td>\n",
       "    </tr>\n",
       "    <tr>\n",
       "      <th id=\"T_23b6a_level0_row8\" class=\"row_heading level0 row8\" >8</th>\n",
       "      <td id=\"T_23b6a_row8_col0\" class=\"data row8 col0\" >Preprocess</td>\n",
       "      <td id=\"T_23b6a_row8_col1\" class=\"data row8 col1\" >True</td>\n",
       "    </tr>\n",
       "    <tr>\n",
       "      <th id=\"T_23b6a_level0_row9\" class=\"row_heading level0 row9\" >9</th>\n",
       "      <td id=\"T_23b6a_row9_col0\" class=\"data row9 col0\" >Imputation type</td>\n",
       "      <td id=\"T_23b6a_row9_col1\" class=\"data row9 col1\" >simple</td>\n",
       "    </tr>\n",
       "    <tr>\n",
       "      <th id=\"T_23b6a_level0_row10\" class=\"row_heading level0 row10\" >10</th>\n",
       "      <td id=\"T_23b6a_row10_col0\" class=\"data row10 col0\" >Numeric imputation</td>\n",
       "      <td id=\"T_23b6a_row10_col1\" class=\"data row10 col1\" >mean</td>\n",
       "    </tr>\n",
       "    <tr>\n",
       "      <th id=\"T_23b6a_level0_row11\" class=\"row_heading level0 row11\" >11</th>\n",
       "      <td id=\"T_23b6a_row11_col0\" class=\"data row11 col0\" >Categorical imputation</td>\n",
       "      <td id=\"T_23b6a_row11_col1\" class=\"data row11 col1\" >mode</td>\n",
       "    </tr>\n",
       "    <tr>\n",
       "      <th id=\"T_23b6a_level0_row12\" class=\"row_heading level0 row12\" >12</th>\n",
       "      <td id=\"T_23b6a_row12_col0\" class=\"data row12 col0\" >Fold Generator</td>\n",
       "      <td id=\"T_23b6a_row12_col1\" class=\"data row12 col1\" >StratifiedKFold</td>\n",
       "    </tr>\n",
       "    <tr>\n",
       "      <th id=\"T_23b6a_level0_row13\" class=\"row_heading level0 row13\" >13</th>\n",
       "      <td id=\"T_23b6a_row13_col0\" class=\"data row13 col0\" >Fold Number</td>\n",
       "      <td id=\"T_23b6a_row13_col1\" class=\"data row13 col1\" >10</td>\n",
       "    </tr>\n",
       "    <tr>\n",
       "      <th id=\"T_23b6a_level0_row14\" class=\"row_heading level0 row14\" >14</th>\n",
       "      <td id=\"T_23b6a_row14_col0\" class=\"data row14 col0\" >CPU Jobs</td>\n",
       "      <td id=\"T_23b6a_row14_col1\" class=\"data row14 col1\" >-1</td>\n",
       "    </tr>\n",
       "    <tr>\n",
       "      <th id=\"T_23b6a_level0_row15\" class=\"row_heading level0 row15\" >15</th>\n",
       "      <td id=\"T_23b6a_row15_col0\" class=\"data row15 col0\" >Use GPU</td>\n",
       "      <td id=\"T_23b6a_row15_col1\" class=\"data row15 col1\" >False</td>\n",
       "    </tr>\n",
       "    <tr>\n",
       "      <th id=\"T_23b6a_level0_row16\" class=\"row_heading level0 row16\" >16</th>\n",
       "      <td id=\"T_23b6a_row16_col0\" class=\"data row16 col0\" >Log Experiment</td>\n",
       "      <td id=\"T_23b6a_row16_col1\" class=\"data row16 col1\" >False</td>\n",
       "    </tr>\n",
       "    <tr>\n",
       "      <th id=\"T_23b6a_level0_row17\" class=\"row_heading level0 row17\" >17</th>\n",
       "      <td id=\"T_23b6a_row17_col0\" class=\"data row17 col0\" >Experiment Name</td>\n",
       "      <td id=\"T_23b6a_row17_col1\" class=\"data row17 col1\" >clf-default-name</td>\n",
       "    </tr>\n",
       "    <tr>\n",
       "      <th id=\"T_23b6a_level0_row18\" class=\"row_heading level0 row18\" >18</th>\n",
       "      <td id=\"T_23b6a_row18_col0\" class=\"data row18 col0\" >USI</td>\n",
       "      <td id=\"T_23b6a_row18_col1\" class=\"data row18 col1\" >e6af</td>\n",
       "    </tr>\n",
       "  </tbody>\n",
       "</table>\n"
      ],
      "text/plain": [
       "<pandas.io.formats.style.Styler at 0x2617964b820>"
      ]
     },
     "metadata": {},
     "output_type": "display_data"
    }
   ],
   "source": [
    "# import pycaret classification and init setup\n",
    "from pycaret.classification import *\n",
    "s = setup(bank_data, target = 'churn', session_id = 123)"
   ]
  },
  {
   "cell_type": "code",
   "execution_count": 15,
   "metadata": {},
   "outputs": [],
   "source": [
    "# import ClassificationExperiment and init the class\n",
    "from pycaret.classification import ClassificationExperiment\n",
    "exp = ClassificationExperiment()"
   ]
  },
  {
   "cell_type": "code",
   "execution_count": 16,
   "metadata": {},
   "outputs": [
    {
     "data": {
      "text/plain": [
       "pycaret.classification.oop.ClassificationExperiment"
      ]
     },
     "execution_count": 16,
     "metadata": {},
     "output_type": "execute_result"
    }
   ],
   "source": [
    "# check the type of exp\n",
    "type(exp)"
   ]
  },
  {
   "cell_type": "code",
   "execution_count": 17,
   "metadata": {},
   "outputs": [
    {
     "data": {
      "text/html": [
       "<style type=\"text/css\">\n",
       "#T_8769f_row8_col1 {\n",
       "  background-color: lightgreen;\n",
       "}\n",
       "</style>\n",
       "<table id=\"T_8769f\">\n",
       "  <thead>\n",
       "    <tr>\n",
       "      <th class=\"blank level0\" >&nbsp;</th>\n",
       "      <th id=\"T_8769f_level0_col0\" class=\"col_heading level0 col0\" >Description</th>\n",
       "      <th id=\"T_8769f_level0_col1\" class=\"col_heading level0 col1\" >Value</th>\n",
       "    </tr>\n",
       "  </thead>\n",
       "  <tbody>\n",
       "    <tr>\n",
       "      <th id=\"T_8769f_level0_row0\" class=\"row_heading level0 row0\" >0</th>\n",
       "      <td id=\"T_8769f_row0_col0\" class=\"data row0 col0\" >Session id</td>\n",
       "      <td id=\"T_8769f_row0_col1\" class=\"data row0 col1\" >123</td>\n",
       "    </tr>\n",
       "    <tr>\n",
       "      <th id=\"T_8769f_level0_row1\" class=\"row_heading level0 row1\" >1</th>\n",
       "      <td id=\"T_8769f_row1_col0\" class=\"data row1 col0\" >Target</td>\n",
       "      <td id=\"T_8769f_row1_col1\" class=\"data row1 col1\" >churn</td>\n",
       "    </tr>\n",
       "    <tr>\n",
       "      <th id=\"T_8769f_level0_row2\" class=\"row_heading level0 row2\" >2</th>\n",
       "      <td id=\"T_8769f_row2_col0\" class=\"data row2 col0\" >Target type</td>\n",
       "      <td id=\"T_8769f_row2_col1\" class=\"data row2 col1\" >Binary</td>\n",
       "    </tr>\n",
       "    <tr>\n",
       "      <th id=\"T_8769f_level0_row3\" class=\"row_heading level0 row3\" >3</th>\n",
       "      <td id=\"T_8769f_row3_col0\" class=\"data row3 col0\" >Original data shape</td>\n",
       "      <td id=\"T_8769f_row3_col1\" class=\"data row3 col1\" >(10000, 12)</td>\n",
       "    </tr>\n",
       "    <tr>\n",
       "      <th id=\"T_8769f_level0_row4\" class=\"row_heading level0 row4\" >4</th>\n",
       "      <td id=\"T_8769f_row4_col0\" class=\"data row4 col0\" >Transformed data shape</td>\n",
       "      <td id=\"T_8769f_row4_col1\" class=\"data row4 col1\" >(10000, 12)</td>\n",
       "    </tr>\n",
       "    <tr>\n",
       "      <th id=\"T_8769f_level0_row5\" class=\"row_heading level0 row5\" >5</th>\n",
       "      <td id=\"T_8769f_row5_col0\" class=\"data row5 col0\" >Transformed train set shape</td>\n",
       "      <td id=\"T_8769f_row5_col1\" class=\"data row5 col1\" >(7000, 12)</td>\n",
       "    </tr>\n",
       "    <tr>\n",
       "      <th id=\"T_8769f_level0_row6\" class=\"row_heading level0 row6\" >6</th>\n",
       "      <td id=\"T_8769f_row6_col0\" class=\"data row6 col0\" >Transformed test set shape</td>\n",
       "      <td id=\"T_8769f_row6_col1\" class=\"data row6 col1\" >(3000, 12)</td>\n",
       "    </tr>\n",
       "    <tr>\n",
       "      <th id=\"T_8769f_level0_row7\" class=\"row_heading level0 row7\" >7</th>\n",
       "      <td id=\"T_8769f_row7_col0\" class=\"data row7 col0\" >Numeric features</td>\n",
       "      <td id=\"T_8769f_row7_col1\" class=\"data row7 col1\" >11</td>\n",
       "    </tr>\n",
       "    <tr>\n",
       "      <th id=\"T_8769f_level0_row8\" class=\"row_heading level0 row8\" >8</th>\n",
       "      <td id=\"T_8769f_row8_col0\" class=\"data row8 col0\" >Preprocess</td>\n",
       "      <td id=\"T_8769f_row8_col1\" class=\"data row8 col1\" >True</td>\n",
       "    </tr>\n",
       "    <tr>\n",
       "      <th id=\"T_8769f_level0_row9\" class=\"row_heading level0 row9\" >9</th>\n",
       "      <td id=\"T_8769f_row9_col0\" class=\"data row9 col0\" >Imputation type</td>\n",
       "      <td id=\"T_8769f_row9_col1\" class=\"data row9 col1\" >simple</td>\n",
       "    </tr>\n",
       "    <tr>\n",
       "      <th id=\"T_8769f_level0_row10\" class=\"row_heading level0 row10\" >10</th>\n",
       "      <td id=\"T_8769f_row10_col0\" class=\"data row10 col0\" >Numeric imputation</td>\n",
       "      <td id=\"T_8769f_row10_col1\" class=\"data row10 col1\" >mean</td>\n",
       "    </tr>\n",
       "    <tr>\n",
       "      <th id=\"T_8769f_level0_row11\" class=\"row_heading level0 row11\" >11</th>\n",
       "      <td id=\"T_8769f_row11_col0\" class=\"data row11 col0\" >Categorical imputation</td>\n",
       "      <td id=\"T_8769f_row11_col1\" class=\"data row11 col1\" >mode</td>\n",
       "    </tr>\n",
       "    <tr>\n",
       "      <th id=\"T_8769f_level0_row12\" class=\"row_heading level0 row12\" >12</th>\n",
       "      <td id=\"T_8769f_row12_col0\" class=\"data row12 col0\" >Fold Generator</td>\n",
       "      <td id=\"T_8769f_row12_col1\" class=\"data row12 col1\" >StratifiedKFold</td>\n",
       "    </tr>\n",
       "    <tr>\n",
       "      <th id=\"T_8769f_level0_row13\" class=\"row_heading level0 row13\" >13</th>\n",
       "      <td id=\"T_8769f_row13_col0\" class=\"data row13 col0\" >Fold Number</td>\n",
       "      <td id=\"T_8769f_row13_col1\" class=\"data row13 col1\" >10</td>\n",
       "    </tr>\n",
       "    <tr>\n",
       "      <th id=\"T_8769f_level0_row14\" class=\"row_heading level0 row14\" >14</th>\n",
       "      <td id=\"T_8769f_row14_col0\" class=\"data row14 col0\" >CPU Jobs</td>\n",
       "      <td id=\"T_8769f_row14_col1\" class=\"data row14 col1\" >-1</td>\n",
       "    </tr>\n",
       "    <tr>\n",
       "      <th id=\"T_8769f_level0_row15\" class=\"row_heading level0 row15\" >15</th>\n",
       "      <td id=\"T_8769f_row15_col0\" class=\"data row15 col0\" >Use GPU</td>\n",
       "      <td id=\"T_8769f_row15_col1\" class=\"data row15 col1\" >False</td>\n",
       "    </tr>\n",
       "    <tr>\n",
       "      <th id=\"T_8769f_level0_row16\" class=\"row_heading level0 row16\" >16</th>\n",
       "      <td id=\"T_8769f_row16_col0\" class=\"data row16 col0\" >Log Experiment</td>\n",
       "      <td id=\"T_8769f_row16_col1\" class=\"data row16 col1\" >False</td>\n",
       "    </tr>\n",
       "    <tr>\n",
       "      <th id=\"T_8769f_level0_row17\" class=\"row_heading level0 row17\" >17</th>\n",
       "      <td id=\"T_8769f_row17_col0\" class=\"data row17 col0\" >Experiment Name</td>\n",
       "      <td id=\"T_8769f_row17_col1\" class=\"data row17 col1\" >clf-default-name</td>\n",
       "    </tr>\n",
       "    <tr>\n",
       "      <th id=\"T_8769f_level0_row18\" class=\"row_heading level0 row18\" >18</th>\n",
       "      <td id=\"T_8769f_row18_col0\" class=\"data row18 col0\" >USI</td>\n",
       "      <td id=\"T_8769f_row18_col1\" class=\"data row18 col1\" >c051</td>\n",
       "    </tr>\n",
       "  </tbody>\n",
       "</table>\n"
      ],
      "text/plain": [
       "<pandas.io.formats.style.Styler at 0x2617abbb1f0>"
      ]
     },
     "metadata": {},
     "output_type": "display_data"
    },
    {
     "data": {
      "text/plain": [
       "<pycaret.classification.oop.ClassificationExperiment at 0x261710051c0>"
      ]
     },
     "execution_count": 17,
     "metadata": {},
     "output_type": "execute_result"
    }
   ],
   "source": [
    "# init setup on exp\n",
    "exp.setup(bank_data, target = 'churn', session_id = 123)"
   ]
  },
  {
   "cell_type": "code",
   "execution_count": 13,
   "metadata": {},
   "outputs": [
    {
     "data": {
      "text/html": [],
      "text/plain": [
       "<IPython.core.display.HTML object>"
      ]
     },
     "metadata": {},
     "output_type": "display_data"
    },
    {
     "data": {
      "text/html": [
       "<style type=\"text/css\">\n",
       "#T_be971 th {\n",
       "  text-align: left;\n",
       "}\n",
       "#T_be971_row0_col0, #T_be971_row0_col2, #T_be971_row0_col3, #T_be971_row0_col4, #T_be971_row1_col0, #T_be971_row1_col1, #T_be971_row1_col3, #T_be971_row1_col5, #T_be971_row1_col6, #T_be971_row1_col7, #T_be971_row2_col0, #T_be971_row2_col1, #T_be971_row2_col2, #T_be971_row2_col4, #T_be971_row2_col5, #T_be971_row2_col6, #T_be971_row2_col7, #T_be971_row3_col0, #T_be971_row3_col1, #T_be971_row3_col2, #T_be971_row3_col3, #T_be971_row3_col4, #T_be971_row3_col5, #T_be971_row3_col6, #T_be971_row3_col7, #T_be971_row4_col0, #T_be971_row4_col1, #T_be971_row4_col2, #T_be971_row4_col3, #T_be971_row4_col4, #T_be971_row4_col5, #T_be971_row4_col6, #T_be971_row4_col7, #T_be971_row5_col0, #T_be971_row5_col1, #T_be971_row5_col2, #T_be971_row5_col3, #T_be971_row5_col4, #T_be971_row5_col5, #T_be971_row5_col6, #T_be971_row5_col7, #T_be971_row6_col0, #T_be971_row6_col1, #T_be971_row6_col2, #T_be971_row6_col3, #T_be971_row6_col4, #T_be971_row6_col5, #T_be971_row6_col6, #T_be971_row6_col7, #T_be971_row7_col0, #T_be971_row7_col1, #T_be971_row7_col2, #T_be971_row7_col3, #T_be971_row7_col4, #T_be971_row7_col5, #T_be971_row7_col6, #T_be971_row7_col7, #T_be971_row8_col0, #T_be971_row8_col1, #T_be971_row8_col2, #T_be971_row8_col3, #T_be971_row8_col4, #T_be971_row8_col5, #T_be971_row8_col6, #T_be971_row8_col7, #T_be971_row9_col0, #T_be971_row9_col1, #T_be971_row9_col2, #T_be971_row9_col3, #T_be971_row9_col4, #T_be971_row9_col5, #T_be971_row9_col6, #T_be971_row9_col7, #T_be971_row10_col0, #T_be971_row10_col1, #T_be971_row10_col2, #T_be971_row10_col3, #T_be971_row10_col4, #T_be971_row10_col5, #T_be971_row10_col6, #T_be971_row10_col7, #T_be971_row11_col0, #T_be971_row11_col1, #T_be971_row11_col2, #T_be971_row11_col3, #T_be971_row11_col4, #T_be971_row11_col5, #T_be971_row11_col6, #T_be971_row11_col7, #T_be971_row12_col0, #T_be971_row12_col1, #T_be971_row12_col2, #T_be971_row12_col3, #T_be971_row12_col4, #T_be971_row12_col5, #T_be971_row12_col6, #T_be971_row12_col7, #T_be971_row13_col0, #T_be971_row13_col1, #T_be971_row13_col2, #T_be971_row13_col3, #T_be971_row13_col4, #T_be971_row13_col5, #T_be971_row13_col6, #T_be971_row13_col7, #T_be971_row14_col0, #T_be971_row14_col1, #T_be971_row14_col2, #T_be971_row14_col3, #T_be971_row14_col4, #T_be971_row14_col5, #T_be971_row14_col6, #T_be971_row14_col7, #T_be971_row15_col0, #T_be971_row15_col1, #T_be971_row15_col2, #T_be971_row15_col3, #T_be971_row15_col4, #T_be971_row15_col5, #T_be971_row15_col6, #T_be971_row15_col7 {\n",
       "  text-align: left;\n",
       "}\n",
       "#T_be971_row0_col1, #T_be971_row0_col5, #T_be971_row0_col6, #T_be971_row0_col7, #T_be971_row1_col2, #T_be971_row1_col4, #T_be971_row2_col3 {\n",
       "  text-align: left;\n",
       "  background-color: yellow;\n",
       "}\n",
       "#T_be971_row0_col8, #T_be971_row1_col8, #T_be971_row2_col8, #T_be971_row3_col8, #T_be971_row4_col8, #T_be971_row5_col8, #T_be971_row6_col8, #T_be971_row7_col8, #T_be971_row9_col8, #T_be971_row10_col8, #T_be971_row11_col8, #T_be971_row12_col8, #T_be971_row13_col8, #T_be971_row14_col8, #T_be971_row15_col8 {\n",
       "  text-align: left;\n",
       "  background-color: lightgrey;\n",
       "}\n",
       "#T_be971_row8_col8 {\n",
       "  text-align: left;\n",
       "  background-color: yellow;\n",
       "  background-color: lightgrey;\n",
       "}\n",
       "</style>\n",
       "<table id=\"T_be971\">\n",
       "  <thead>\n",
       "    <tr>\n",
       "      <th class=\"blank level0\" >&nbsp;</th>\n",
       "      <th id=\"T_be971_level0_col0\" class=\"col_heading level0 col0\" >Model</th>\n",
       "      <th id=\"T_be971_level0_col1\" class=\"col_heading level0 col1\" >Accuracy</th>\n",
       "      <th id=\"T_be971_level0_col2\" class=\"col_heading level0 col2\" >AUC</th>\n",
       "      <th id=\"T_be971_level0_col3\" class=\"col_heading level0 col3\" >Recall</th>\n",
       "      <th id=\"T_be971_level0_col4\" class=\"col_heading level0 col4\" >Prec.</th>\n",
       "      <th id=\"T_be971_level0_col5\" class=\"col_heading level0 col5\" >F1</th>\n",
       "      <th id=\"T_be971_level0_col6\" class=\"col_heading level0 col6\" >Kappa</th>\n",
       "      <th id=\"T_be971_level0_col7\" class=\"col_heading level0 col7\" >MCC</th>\n",
       "      <th id=\"T_be971_level0_col8\" class=\"col_heading level0 col8\" >TT (Sec)</th>\n",
       "    </tr>\n",
       "  </thead>\n",
       "  <tbody>\n",
       "    <tr>\n",
       "      <th id=\"T_be971_level0_row0\" class=\"row_heading level0 row0\" >catboost</th>\n",
       "      <td id=\"T_be971_row0_col0\" class=\"data row0 col0\" >CatBoost Classifier</td>\n",
       "      <td id=\"T_be971_row0_col1\" class=\"data row0 col1\" >0.8584</td>\n",
       "      <td id=\"T_be971_row0_col2\" class=\"data row0 col2\" >0.8542</td>\n",
       "      <td id=\"T_be971_row0_col3\" class=\"data row0 col3\" >0.4664</td>\n",
       "      <td id=\"T_be971_row0_col4\" class=\"data row0 col4\" >0.7455</td>\n",
       "      <td id=\"T_be971_row0_col5\" class=\"data row0 col5\" >0.5730</td>\n",
       "      <td id=\"T_be971_row0_col6\" class=\"data row0 col6\" >0.4935</td>\n",
       "      <td id=\"T_be971_row0_col7\" class=\"data row0 col7\" >0.5135</td>\n",
       "      <td id=\"T_be971_row0_col8\" class=\"data row0 col8\" >2.3320</td>\n",
       "    </tr>\n",
       "    <tr>\n",
       "      <th id=\"T_be971_level0_row1\" class=\"row_heading level0 row1\" >gbc</th>\n",
       "      <td id=\"T_be971_row1_col0\" class=\"data row1 col0\" >Gradient Boosting Classifier</td>\n",
       "      <td id=\"T_be971_row1_col1\" class=\"data row1 col1\" >0.8580</td>\n",
       "      <td id=\"T_be971_row1_col2\" class=\"data row1 col2\" >0.8576</td>\n",
       "      <td id=\"T_be971_row1_col3\" class=\"data row1 col3\" >0.4383</td>\n",
       "      <td id=\"T_be971_row1_col4\" class=\"data row1 col4\" >0.7688</td>\n",
       "      <td id=\"T_be971_row1_col5\" class=\"data row1 col5\" >0.5572</td>\n",
       "      <td id=\"T_be971_row1_col6\" class=\"data row1 col6\" >0.4800</td>\n",
       "      <td id=\"T_be971_row1_col7\" class=\"data row1 col7\" >0.5076</td>\n",
       "      <td id=\"T_be971_row1_col8\" class=\"data row1 col8\" >0.3900</td>\n",
       "    </tr>\n",
       "    <tr>\n",
       "      <th id=\"T_be971_level0_row2\" class=\"row_heading level0 row2\" >lightgbm</th>\n",
       "      <td id=\"T_be971_row2_col0\" class=\"data row2 col0\" >Light Gradient Boosting Machine</td>\n",
       "      <td id=\"T_be971_row2_col1\" class=\"data row2 col1\" >0.8546</td>\n",
       "      <td id=\"T_be971_row2_col2\" class=\"data row2 col2\" >0.8466</td>\n",
       "      <td id=\"T_be971_row2_col3\" class=\"data row2 col3\" >0.4713</td>\n",
       "      <td id=\"T_be971_row2_col4\" class=\"data row2 col4\" >0.7193</td>\n",
       "      <td id=\"T_be971_row2_col5\" class=\"data row2 col5\" >0.5691</td>\n",
       "      <td id=\"T_be971_row2_col6\" class=\"data row2 col6\" >0.4861</td>\n",
       "      <td id=\"T_be971_row2_col7\" class=\"data row2 col7\" >0.5021</td>\n",
       "      <td id=\"T_be971_row2_col8\" class=\"data row2 col8\" >0.1980</td>\n",
       "    </tr>\n",
       "    <tr>\n",
       "      <th id=\"T_be971_level0_row3\" class=\"row_heading level0 row3\" >rf</th>\n",
       "      <td id=\"T_be971_row3_col0\" class=\"data row3 col0\" >Random Forest Classifier</td>\n",
       "      <td id=\"T_be971_row3_col1\" class=\"data row3 col1\" >0.8530</td>\n",
       "      <td id=\"T_be971_row3_col2\" class=\"data row3 col2\" >0.8403</td>\n",
       "      <td id=\"T_be971_row3_col3\" class=\"data row3 col3\" >0.4201</td>\n",
       "      <td id=\"T_be971_row3_col4\" class=\"data row3 col4\" >0.7495</td>\n",
       "      <td id=\"T_be971_row3_col5\" class=\"data row3 col5\" >0.5380</td>\n",
       "      <td id=\"T_be971_row3_col6\" class=\"data row3 col6\" >0.4587</td>\n",
       "      <td id=\"T_be971_row3_col7\" class=\"data row3 col7\" >0.4862</td>\n",
       "      <td id=\"T_be971_row3_col8\" class=\"data row3 col8\" >0.3520</td>\n",
       "    </tr>\n",
       "    <tr>\n",
       "      <th id=\"T_be971_level0_row4\" class=\"row_heading level0 row4\" >ada</th>\n",
       "      <td id=\"T_be971_row4_col0\" class=\"data row4 col0\" >Ada Boost Classifier</td>\n",
       "      <td id=\"T_be971_row4_col1\" class=\"data row4 col1\" >0.8524</td>\n",
       "      <td id=\"T_be971_row4_col2\" class=\"data row4 col2\" >0.8394</td>\n",
       "      <td id=\"T_be971_row4_col3\" class=\"data row4 col3\" >0.4517</td>\n",
       "      <td id=\"T_be971_row4_col4\" class=\"data row4 col4\" >0.7226</td>\n",
       "      <td id=\"T_be971_row4_col5\" class=\"data row4 col5\" >0.5546</td>\n",
       "      <td id=\"T_be971_row4_col6\" class=\"data row4 col6\" >0.4719</td>\n",
       "      <td id=\"T_be971_row4_col7\" class=\"data row4 col7\" >0.4913</td>\n",
       "      <td id=\"T_be971_row4_col8\" class=\"data row4 col8\" >0.1310</td>\n",
       "    </tr>\n",
       "    <tr>\n",
       "      <th id=\"T_be971_level0_row5\" class=\"row_heading level0 row5\" >et</th>\n",
       "      <td id=\"T_be971_row5_col0\" class=\"data row5 col0\" >Extra Trees Classifier</td>\n",
       "      <td id=\"T_be971_row5_col1\" class=\"data row5 col1\" >0.8523</td>\n",
       "      <td id=\"T_be971_row5_col2\" class=\"data row5 col2\" >0.8395</td>\n",
       "      <td id=\"T_be971_row5_col3\" class=\"data row5 col3\" >0.4089</td>\n",
       "      <td id=\"T_be971_row5_col4\" class=\"data row5 col4\" >0.7556</td>\n",
       "      <td id=\"T_be971_row5_col5\" class=\"data row5 col5\" >0.5299</td>\n",
       "      <td id=\"T_be971_row5_col6\" class=\"data row5 col6\" >0.4514</td>\n",
       "      <td id=\"T_be971_row5_col7\" class=\"data row5 col7\" >0.4817</td>\n",
       "      <td id=\"T_be971_row5_col8\" class=\"data row5 col8\" >0.2410</td>\n",
       "    </tr>\n",
       "    <tr>\n",
       "      <th id=\"T_be971_level0_row6\" class=\"row_heading level0 row6\" >xgboost</th>\n",
       "      <td id=\"T_be971_row6_col0\" class=\"data row6 col0\" >Extreme Gradient Boosting</td>\n",
       "      <td id=\"T_be971_row6_col1\" class=\"data row6 col1\" >0.8497</td>\n",
       "      <td id=\"T_be971_row6_col2\" class=\"data row6 col2\" >0.8273</td>\n",
       "      <td id=\"T_be971_row6_col3\" class=\"data row6 col3\" >0.4692</td>\n",
       "      <td id=\"T_be971_row6_col4\" class=\"data row6 col4\" >0.6957</td>\n",
       "      <td id=\"T_be971_row6_col5\" class=\"data row6 col5\" >0.5599</td>\n",
       "      <td id=\"T_be971_row6_col6\" class=\"data row6 col6\" >0.4734</td>\n",
       "      <td id=\"T_be971_row6_col7\" class=\"data row6 col7\" >0.4871</td>\n",
       "      <td id=\"T_be971_row6_col8\" class=\"data row6 col8\" >0.0870</td>\n",
       "    </tr>\n",
       "    <tr>\n",
       "      <th id=\"T_be971_level0_row7\" class=\"row_heading level0 row7\" >qda</th>\n",
       "      <td id=\"T_be971_row7_col0\" class=\"data row7 col0\" >Quadratic Discriminant Analysis</td>\n",
       "      <td id=\"T_be971_row7_col1\" class=\"data row7 col1\" >0.8324</td>\n",
       "      <td id=\"T_be971_row7_col2\" class=\"data row7 col2\" >0.8119</td>\n",
       "      <td id=\"T_be971_row7_col3\" class=\"data row7 col3\" >0.2952</td>\n",
       "      <td id=\"T_be971_row7_col4\" class=\"data row7 col4\" >0.7196</td>\n",
       "      <td id=\"T_be971_row7_col5\" class=\"data row7 col5\" >0.4179</td>\n",
       "      <td id=\"T_be971_row7_col6\" class=\"data row7 col6\" >0.3393</td>\n",
       "      <td id=\"T_be971_row7_col7\" class=\"data row7 col7\" >0.3859</td>\n",
       "      <td id=\"T_be971_row7_col8\" class=\"data row7 col8\" >0.0160</td>\n",
       "    </tr>\n",
       "    <tr>\n",
       "      <th id=\"T_be971_level0_row8\" class=\"row_heading level0 row8\" >lda</th>\n",
       "      <td id=\"T_be971_row8_col0\" class=\"data row8 col0\" >Linear Discriminant Analysis</td>\n",
       "      <td id=\"T_be971_row8_col1\" class=\"data row8 col1\" >0.8066</td>\n",
       "      <td id=\"T_be971_row8_col2\" class=\"data row8 col2\" >0.7620</td>\n",
       "      <td id=\"T_be971_row8_col3\" class=\"data row8 col3\" >0.2020</td>\n",
       "      <td id=\"T_be971_row8_col4\" class=\"data row8 col4\" >0.5777</td>\n",
       "      <td id=\"T_be971_row8_col5\" class=\"data row8 col5\" >0.2979</td>\n",
       "      <td id=\"T_be971_row8_col6\" class=\"data row8 col6\" >0.2148</td>\n",
       "      <td id=\"T_be971_row8_col7\" class=\"data row8 col7\" >0.2557</td>\n",
       "      <td id=\"T_be971_row8_col8\" class=\"data row8 col8\" >0.0120</td>\n",
       "    </tr>\n",
       "    <tr>\n",
       "      <th id=\"T_be971_level0_row9\" class=\"row_heading level0 row9\" >ridge</th>\n",
       "      <td id=\"T_be971_row9_col0\" class=\"data row9 col0\" >Ridge Classifier</td>\n",
       "      <td id=\"T_be971_row9_col1\" class=\"data row9 col1\" >0.8019</td>\n",
       "      <td id=\"T_be971_row9_col2\" class=\"data row9 col2\" >0.0000</td>\n",
       "      <td id=\"T_be971_row9_col3\" class=\"data row9 col3\" >0.0982</td>\n",
       "      <td id=\"T_be971_row9_col4\" class=\"data row9 col4\" >0.5878</td>\n",
       "      <td id=\"T_be971_row9_col5\" class=\"data row9 col5\" >0.1670</td>\n",
       "      <td id=\"T_be971_row9_col6\" class=\"data row9 col6\" >0.1155</td>\n",
       "      <td id=\"T_be971_row9_col7\" class=\"data row9 col7\" >0.1771</td>\n",
       "      <td id=\"T_be971_row9_col8\" class=\"data row9 col8\" >0.0170</td>\n",
       "    </tr>\n",
       "    <tr>\n",
       "      <th id=\"T_be971_level0_row10\" class=\"row_heading level0 row10\" >lr</th>\n",
       "      <td id=\"T_be971_row10_col0\" class=\"data row10 col0\" >Logistic Regression</td>\n",
       "      <td id=\"T_be971_row10_col1\" class=\"data row10 col1\" >0.7963</td>\n",
       "      <td id=\"T_be971_row10_col2\" class=\"data row10 col2\" >0.5761</td>\n",
       "      <td id=\"T_be971_row10_col3\" class=\"data row10 col3\" >0.0000</td>\n",
       "      <td id=\"T_be971_row10_col4\" class=\"data row10 col4\" >0.0000</td>\n",
       "      <td id=\"T_be971_row10_col5\" class=\"data row10 col5\" >0.0000</td>\n",
       "      <td id=\"T_be971_row10_col6\" class=\"data row10 col6\" >0.0000</td>\n",
       "      <td id=\"T_be971_row10_col7\" class=\"data row10 col7\" >0.0000</td>\n",
       "      <td id=\"T_be971_row10_col8\" class=\"data row10 col8\" >1.5120</td>\n",
       "    </tr>\n",
       "    <tr>\n",
       "      <th id=\"T_be971_level0_row11\" class=\"row_heading level0 row11\" >dummy</th>\n",
       "      <td id=\"T_be971_row11_col0\" class=\"data row11 col0\" >Dummy Classifier</td>\n",
       "      <td id=\"T_be971_row11_col1\" class=\"data row11 col1\" >0.7963</td>\n",
       "      <td id=\"T_be971_row11_col2\" class=\"data row11 col2\" >0.5000</td>\n",
       "      <td id=\"T_be971_row11_col3\" class=\"data row11 col3\" >0.0000</td>\n",
       "      <td id=\"T_be971_row11_col4\" class=\"data row11 col4\" >0.0000</td>\n",
       "      <td id=\"T_be971_row11_col5\" class=\"data row11 col5\" >0.0000</td>\n",
       "      <td id=\"T_be971_row11_col6\" class=\"data row11 col6\" >0.0000</td>\n",
       "      <td id=\"T_be971_row11_col7\" class=\"data row11 col7\" >0.0000</td>\n",
       "      <td id=\"T_be971_row11_col8\" class=\"data row11 col8\" >0.0200</td>\n",
       "    </tr>\n",
       "    <tr>\n",
       "      <th id=\"T_be971_level0_row12\" class=\"row_heading level0 row12\" >nb</th>\n",
       "      <td id=\"T_be971_row12_col0\" class=\"data row12 col0\" >Naive Bayes</td>\n",
       "      <td id=\"T_be971_row12_col1\" class=\"data row12 col1\" >0.7866</td>\n",
       "      <td id=\"T_be971_row12_col2\" class=\"data row12 col2\" >0.7467</td>\n",
       "      <td id=\"T_be971_row12_col3\" class=\"data row12 col3\" >0.0996</td>\n",
       "      <td id=\"T_be971_row12_col4\" class=\"data row12 col4\" >0.4102</td>\n",
       "      <td id=\"T_be971_row12_col5\" class=\"data row12 col5\" >0.1595</td>\n",
       "      <td id=\"T_be971_row12_col6\" class=\"data row12 col6\" >0.0861</td>\n",
       "      <td id=\"T_be971_row12_col7\" class=\"data row12 col7\" >0.1156</td>\n",
       "      <td id=\"T_be971_row12_col8\" class=\"data row12 col8\" >0.0140</td>\n",
       "    </tr>\n",
       "    <tr>\n",
       "      <th id=\"T_be971_level0_row13\" class=\"row_heading level0 row13\" >dt</th>\n",
       "      <td id=\"T_be971_row13_col0\" class=\"data row13 col0\" >Decision Tree Classifier</td>\n",
       "      <td id=\"T_be971_row13_col1\" class=\"data row13 col1\" >0.7789</td>\n",
       "      <td id=\"T_be971_row13_col2\" class=\"data row13 col2\" >0.6634</td>\n",
       "      <td id=\"T_be971_row13_col3\" class=\"data row13 col3\" >0.4685</td>\n",
       "      <td id=\"T_be971_row13_col4\" class=\"data row13 col4\" >0.4579</td>\n",
       "      <td id=\"T_be971_row13_col5\" class=\"data row13 col5\" >0.4628</td>\n",
       "      <td id=\"T_be971_row13_col6\" class=\"data row13 col6\" >0.3237</td>\n",
       "      <td id=\"T_be971_row13_col7\" class=\"data row13 col7\" >0.3239</td>\n",
       "      <td id=\"T_be971_row13_col8\" class=\"data row13 col8\" >0.0190</td>\n",
       "    </tr>\n",
       "    <tr>\n",
       "      <th id=\"T_be971_level0_row14\" class=\"row_heading level0 row14\" >svm</th>\n",
       "      <td id=\"T_be971_row14_col0\" class=\"data row14 col0\" >SVM - Linear Kernel</td>\n",
       "      <td id=\"T_be971_row14_col1\" class=\"data row14 col1\" >0.7713</td>\n",
       "      <td id=\"T_be971_row14_col2\" class=\"data row14 col2\" >0.0000</td>\n",
       "      <td id=\"T_be971_row14_col3\" class=\"data row14 col3\" >0.0678</td>\n",
       "      <td id=\"T_be971_row14_col4\" class=\"data row14 col4\" >0.0263</td>\n",
       "      <td id=\"T_be971_row14_col5\" class=\"data row14 col5\" >0.0379</td>\n",
       "      <td id=\"T_be971_row14_col6\" class=\"data row14 col6\" >0.0120</td>\n",
       "      <td id=\"T_be971_row14_col7\" class=\"data row14 col7\" >0.0153</td>\n",
       "      <td id=\"T_be971_row14_col8\" class=\"data row14 col8\" >0.0260</td>\n",
       "    </tr>\n",
       "    <tr>\n",
       "      <th id=\"T_be971_level0_row15\" class=\"row_heading level0 row15\" >knn</th>\n",
       "      <td id=\"T_be971_row15_col0\" class=\"data row15 col0\" >K Neighbors Classifier</td>\n",
       "      <td id=\"T_be971_row15_col1\" class=\"data row15 col1\" >0.7630</td>\n",
       "      <td id=\"T_be971_row15_col2\" class=\"data row15 col2\" >0.5192</td>\n",
       "      <td id=\"T_be971_row15_col3\" class=\"data row15 col3\" >0.0912</td>\n",
       "      <td id=\"T_be971_row15_col4\" class=\"data row15 col4\" >0.2631</td>\n",
       "      <td id=\"T_be971_row15_col5\" class=\"data row15 col5\" >0.1353</td>\n",
       "      <td id=\"T_be971_row15_col6\" class=\"data row15 col6\" >0.0344</td>\n",
       "      <td id=\"T_be971_row15_col7\" class=\"data row15 col7\" >0.0408</td>\n",
       "      <td id=\"T_be971_row15_col8\" class=\"data row15 col8\" >0.6380</td>\n",
       "    </tr>\n",
       "  </tbody>\n",
       "</table>\n"
      ],
      "text/plain": [
       "<pandas.io.formats.style.Styler at 0x261799facd0>"
      ]
     },
     "metadata": {},
     "output_type": "display_data"
    },
    {
     "data": {
      "text/html": [],
      "text/plain": [
       "<IPython.core.display.HTML object>"
      ]
     },
     "metadata": {},
     "output_type": "display_data"
    }
   ],
   "source": [
    "# compare baseline models\n",
    "best = compare_models()"
   ]
  },
  {
   "cell_type": "code",
   "execution_count": 18,
   "metadata": {},
   "outputs": [
    {
     "data": {
      "text/html": [],
      "text/plain": [
       "<IPython.core.display.HTML object>"
      ]
     },
     "metadata": {},
     "output_type": "display_data"
    },
    {
     "data": {
      "text/html": [
       "<div>\n",
       "<style scoped>\n",
       "    .dataframe tbody tr th:only-of-type {\n",
       "        vertical-align: middle;\n",
       "    }\n",
       "\n",
       "    .dataframe tbody tr th {\n",
       "        vertical-align: top;\n",
       "    }\n",
       "\n",
       "    .dataframe thead th {\n",
       "        text-align: right;\n",
       "    }\n",
       "</style>\n",
       "<table border=\"1\" class=\"dataframe\">\n",
       "  <thead>\n",
       "    <tr style=\"text-align: right;\">\n",
       "      <th></th>\n",
       "      <th>Model</th>\n",
       "      <th>Accuracy</th>\n",
       "      <th>AUC</th>\n",
       "      <th>Recall</th>\n",
       "      <th>Prec.</th>\n",
       "      <th>F1</th>\n",
       "      <th>Kappa</th>\n",
       "      <th>MCC</th>\n",
       "      <th>TT (Sec)</th>\n",
       "    </tr>\n",
       "  </thead>\n",
       "  <tbody>\n",
       "  </tbody>\n",
       "</table>\n",
       "</div>"
      ],
      "text/plain": [
       "Empty DataFrame\n",
       "Columns: [Model, Accuracy, AUC, Recall, Prec., F1, Kappa, MCC, TT (Sec)]\n",
       "Index: []"
      ]
     },
     "metadata": {},
     "output_type": "display_data"
    },
    {
     "data": {
      "text/html": [],
      "text/plain": [
       "<IPython.core.display.HTML object>"
      ]
     },
     "metadata": {},
     "output_type": "display_data"
    },
    {
     "data": {
      "text/plain": [
       "<catboost.core.CatBoostClassifier at 0x261791d94f0>"
      ]
     },
     "execution_count": 18,
     "metadata": {},
     "output_type": "execute_result"
    }
   ],
   "source": [
    "exp.compare_models()"
   ]
  },
  {
   "cell_type": "code",
   "execution_count": 19,
   "metadata": {},
   "outputs": [
    {
     "data": {
      "text/html": [],
      "text/plain": [
       "<IPython.core.display.HTML object>"
      ]
     },
     "metadata": {},
     "output_type": "display_data"
    },
    {
     "data": {
      "image/png": "[encoded data removed]",
      "text/plain": [
       "<Figure size 800x550 with 1 Axes>"
      ]
     },
     "metadata": {},
     "output_type": "display_data"
    }
   ],
   "source": [
    "# plot confusion matrix\n",
    "plot_model(best, plot = 'confusion_matrix')"
   ]
  },
  {
   "cell_type": "code",
   "execution_count": 25,
   "metadata": {},
   "outputs": [
    {
     "data": {
      "text/plain": [
       "<catboost.core.CatBoostClassifier at 0x261791df4f0>"
      ]
     },
     "metadata": {},
     "output_type": "display_data"
    },
    {
     "ename": "",
     "evalue": "",
     "output_type": "error",
     "traceback": [
      "\u001b[1;31mThe Kernel crashed while executing code in the the current cell or a previous cell. Please review the code in the cell(s) to identify a possible cause of the failure. Click <a href='https://aka.ms/vscodeJupyterKernelCrash'>here</a> for more info. View Jupyter <a href='command:jupyter.viewOutput'>log</a> for further details."
     ]
    }
   ],
   "source": [
    "display(best)"
   ]
  },
  {
   "cell_type": "code",
   "execution_count": 20,
   "metadata": {},
   "outputs": [
    {
     "data": {
      "text/html": [],
      "text/plain": [
       "<IPython.core.display.HTML object>"
      ]
     },
     "metadata": {},
     "output_type": "display_data"
    },
    {
     "data": {
      "image/png": "[encoded data removed]",
      "text/plain": [
       "<Figure size 800x550 with 1 Axes>"
      ]
     },
     "metadata": {},
     "output_type": "display_data"
    }
   ],
   "source": [
    "# plot confusion matrix\n",
    "plot_model(best, plot = 'auc')"
   ]
  },
  {
   "cell_type": "code",
   "execution_count": 21,
   "metadata": {},
   "outputs": [
    {
     "data": {
      "text/html": [],
      "text/plain": [
       "<IPython.core.display.HTML object>"
      ]
     },
     "metadata": {},
     "output_type": "display_data"
    },
    {
     "data": {
      "image/png": "[encoded data removed]",
      "text/plain": [
       "<Figure size 800x500 with 1 Axes>"
      ]
     },
     "metadata": {},
     "output_type": "display_data"
    }
   ],
   "source": [
    "# plot feature importance\n",
    "plot_model(best, plot = 'feature')"
   ]
  },
  {
   "cell_type": "code",
   "execution_count": 22,
   "metadata": {},
   "outputs": [
    {
     "data": {
      "application/vnd.jupyter.widget-view+json": {
       "model_id": "ed5f830fb67d49b488c42eb486a3ae5a",
       "version_major": 2,
       "version_minor": 0
      },
      "text/plain": [
       "interactive(children=(ToggleButtons(description='Plot Type:', icons=('',), options=(('Pipeline Plot', 'pipelin…"
      ]
     },
     "metadata": {},
     "output_type": "display_data"
    }
   ],
   "source": [
    "evaluate_model(best)"
   ]
  },
  {
   "cell_type": "code",
   "execution_count": 23,
   "metadata": {},
   "outputs": [
    {
     "name": "stdout",
     "output_type": "stream",
     "text": [
      "Transformation Pipeline and Model Successfully Saved\n"
     ]
    },
    {
     "data": {
      "text/plain": [
       "(Pipeline(memory=Memory(location=None),\n",
       "          steps=[('numerical_imputer',\n",
       "                  TransformerWrapper(exclude=None,\n",
       "                                     include=['customer_id', 'credit_score',\n",
       "                                              'country', 'gender', 'age',\n",
       "                                              'tenure', 'balance',\n",
       "                                              'products_number', 'credit_card',\n",
       "                                              'active_member',\n",
       "                                              'estimated_salary'],\n",
       "                                     transformer=SimpleImputer(add_indicator=False,\n",
       "                                                               copy=True,\n",
       "                                                               fill_value=None,\n",
       "                                                               keep_empty_features=False,\n",
       "                                                               miss...\n",
       "                                                               verbose='deprecated'))),\n",
       "                 ('categorical_imputer',\n",
       "                  TransformerWrapper(exclude=None, include=[],\n",
       "                                     transformer=SimpleImputer(add_indicator=False,\n",
       "                                                               copy=True,\n",
       "                                                               fill_value=None,\n",
       "                                                               keep_empty_features=False,\n",
       "                                                               missing_values=nan,\n",
       "                                                               strategy='most_frequent',\n",
       "                                                               verbose='deprecated'))),\n",
       "                 ('trained_model',\n",
       "                  <catboost.core.CatBoostClassifier object at 0x00000261791DF4F0>)],\n",
       "          verbose=False),\n",
       " 'my_first_pipeline.pkl')"
      ]
     },
     "execution_count": 23,
     "metadata": {},
     "output_type": "execute_result"
    }
   ],
   "source": [
    "# save pipeline\n",
    "save_model(best, 'my_first_pipeline')"
   ]
  },
  {
   "cell_type": "code",
   "execution_count": 24,
   "metadata": {},
   "outputs": [
    {
     "name": "stdout",
     "output_type": "stream",
     "text": [
      "Transformation Pipeline and Model Successfully Loaded\n"
     ]
    },
    {
     "data": {
      "text/html": [
       "<style>#sk-container-id-1 {color: black;background-color: white;}#sk-container-id-1 pre{padding: 0;}#sk-container-id-1 div.sk-toggleable {background-color: white;}#sk-container-id-1 label.sk-toggleable__label {cursor: pointer;display: block;width: 100%;margin-bottom: 0;padding: 0.3em;box-sizing: border-box;text-align: center;}#sk-container-id-1 label.sk-toggleable__label-arrow:before {content: \"▸\";float: left;margin-right: 0.25em;color: #696969;}#sk-container-id-1 label.sk-toggleable__label-arrow:hover:before {color: black;}#sk-container-id-1 div.sk-estimator:hover label.sk-toggleable__label-arrow:before {color: black;}#sk-container-id-1 div.sk-toggleable__content {max-height: 0;max-width: 0;overflow: hidden;text-align: left;background-color: #f0f8ff;}#sk-container-id-1 div.sk-toggleable__content pre {margin: 0.2em;color: black;border-radius: 0.25em;background-color: #f0f8ff;}#sk-container-id-1 input.sk-toggleable__control:checked~div.sk-toggleable__content {max-height: 200px;max-width: 100%;overflow: auto;}#sk-container-id-1 input.sk-toggleable__control:checked~label.sk-toggleable__label-arrow:before {content: \"▾\";}#sk-container-id-1 div.sk-estimator input.sk-toggleable__control:checked~label.sk-toggleable__label {background-color: #d4ebff;}#sk-container-id-1 div.sk-label input.sk-toggleable__control:checked~label.sk-toggleable__label {background-color: #d4ebff;}#sk-container-id-1 input.sk-hidden--visually {border: 0;clip: rect(1px 1px 1px 1px);clip: rect(1px, 1px, 1px, 1px);height: 1px;margin: -1px;overflow: hidden;padding: 0;position: absolute;width: 1px;}#sk-container-id-1 div.sk-estimator {font-family: monospace;background-color: #f0f8ff;border: 1px dotted black;border-radius: 0.25em;box-sizing: border-box;margin-bottom: 0.5em;}#sk-container-id-1 div.sk-estimator:hover {background-color: #d4ebff;}#sk-container-id-1 div.sk-parallel-item::after {content: \"\";width: 100%;border-bottom: 1px solid gray;flex-grow: 1;}#sk-container-id-1 div.sk-label:hover label.sk-toggleable__label {background-color: #d4ebff;}#sk-container-id-1 div.sk-serial::before {content: \"\";position: absolute;border-left: 1px solid gray;box-sizing: border-box;top: 0;bottom: 0;left: 50%;z-index: 0;}#sk-container-id-1 div.sk-serial {display: flex;flex-direction: column;align-items: center;background-color: white;padding-right: 0.2em;padding-left: 0.2em;position: relative;}#sk-container-id-1 div.sk-item {position: relative;z-index: 1;}#sk-container-id-1 div.sk-parallel {display: flex;align-items: stretch;justify-content: center;background-color: white;position: relative;}#sk-container-id-1 div.sk-item::before, #sk-container-id-1 div.sk-parallel-item::before {content: \"\";position: absolute;border-left: 1px solid gray;box-sizing: border-box;top: 0;bottom: 0;left: 50%;z-index: -1;}#sk-container-id-1 div.sk-parallel-item {display: flex;flex-direction: column;z-index: 1;position: relative;background-color: white;}#sk-container-id-1 div.sk-parallel-item:first-child::after {align-self: flex-end;width: 50%;}#sk-container-id-1 div.sk-parallel-item:last-child::after {align-self: flex-start;width: 50%;}#sk-container-id-1 div.sk-parallel-item:only-child::after {width: 0;}#sk-container-id-1 div.sk-dashed-wrapped {border: 1px dashed gray;margin: 0 0.4em 0.5em 0.4em;box-sizing: border-box;padding-bottom: 0.4em;background-color: white;}#sk-container-id-1 div.sk-label label {font-family: monospace;font-weight: bold;display: inline-block;line-height: 1.2em;}#sk-container-id-1 div.sk-label-container {text-align: center;}#sk-container-id-1 div.sk-container {/* jupyter's `normalize.less` sets `[hidden] { display: none; }` but bootstrap.min.css set `[hidden] { display: none !important; }` so we also need the `!important` here to be able to override the default hidden behavior on the sphinx rendered scikit-learn.org. See: https://github.com/scikit-learn/scikit-learn/issues/21755 */display: inline-block !important;position: relative;}#sk-container-id-1 div.sk-text-repr-fallback {display: none;}</style><div id=\"sk-container-id-1\" class=\"sk-top-container\"><div class=\"sk-text-repr-fallback\"><pre>Pipeline(memory=FastMemory(location=C:\\Users\\AMBREE~1.HAN\\AppData\\Local\\Temp\\joblib),\n",
       "         steps=[(&#x27;numerical_imputer&#x27;,\n",
       "                 TransformerWrapper(exclude=None,\n",
       "                                    include=[&#x27;customer_id&#x27;, &#x27;credit_score&#x27;,\n",
       "                                             &#x27;country&#x27;, &#x27;gender&#x27;, &#x27;age&#x27;,\n",
       "                                             &#x27;tenure&#x27;, &#x27;balance&#x27;,\n",
       "                                             &#x27;products_number&#x27;, &#x27;credit_card&#x27;,\n",
       "                                             &#x27;active_member&#x27;,\n",
       "                                             &#x27;estimated_salary&#x27;],\n",
       "                                    transformer=SimpleImputer(add_indicator=False,\n",
       "                                                              copy=True...\n",
       "                                                              verbose=&#x27;deprecated&#x27;))),\n",
       "                (&#x27;categorical_imputer&#x27;,\n",
       "                 TransformerWrapper(exclude=None, include=[],\n",
       "                                    transformer=SimpleImputer(add_indicator=False,\n",
       "                                                              copy=True,\n",
       "                                                              fill_value=None,\n",
       "                                                              keep_empty_features=False,\n",
       "                                                              missing_values=nan,\n",
       "                                                              strategy=&#x27;most_frequent&#x27;,\n",
       "                                                              verbose=&#x27;deprecated&#x27;))),\n",
       "                (&#x27;trained_model&#x27;,\n",
       "                 &lt;catboost.core.CatBoostClassifier object at 0x000002617ACFCCD0&gt;)],\n",
       "         verbose=False)</pre><b>In a Jupyter environment, please rerun this cell to show the HTML representation or trust the notebook. <br />On GitHub, the HTML representation is unable to render, please try loading this page with nbviewer.org.</b></div><div class=\"sk-container\" hidden><div class=\"sk-item sk-dashed-wrapped\"><div class=\"sk-label-container\"><div class=\"sk-label sk-toggleable\"><input class=\"sk-toggleable__control sk-hidden--visually\" id=\"sk-estimator-id-1\" type=\"checkbox\" ><label for=\"sk-estimator-id-1\" class=\"sk-toggleable__label sk-toggleable__label-arrow\">Pipeline</label><div class=\"sk-toggleable__content\"><pre>Pipeline(memory=FastMemory(location=C:\\Users\\AMBREE~1.HAN\\AppData\\Local\\Temp\\joblib),\n",
       "         steps=[(&#x27;numerical_imputer&#x27;,\n",
       "                 TransformerWrapper(exclude=None,\n",
       "                                    include=[&#x27;customer_id&#x27;, &#x27;credit_score&#x27;,\n",
       "                                             &#x27;country&#x27;, &#x27;gender&#x27;, &#x27;age&#x27;,\n",
       "                                             &#x27;tenure&#x27;, &#x27;balance&#x27;,\n",
       "                                             &#x27;products_number&#x27;, &#x27;credit_card&#x27;,\n",
       "                                             &#x27;active_member&#x27;,\n",
       "                                             &#x27;estimated_salary&#x27;],\n",
       "                                    transformer=SimpleImputer(add_indicator=False,\n",
       "                                                              copy=True...\n",
       "                                                              verbose=&#x27;deprecated&#x27;))),\n",
       "                (&#x27;categorical_imputer&#x27;,\n",
       "                 TransformerWrapper(exclude=None, include=[],\n",
       "                                    transformer=SimpleImputer(add_indicator=False,\n",
       "                                                              copy=True,\n",
       "                                                              fill_value=None,\n",
       "                                                              keep_empty_features=False,\n",
       "                                                              missing_values=nan,\n",
       "                                                              strategy=&#x27;most_frequent&#x27;,\n",
       "                                                              verbose=&#x27;deprecated&#x27;))),\n",
       "                (&#x27;trained_model&#x27;,\n",
       "                 &lt;catboost.core.CatBoostClassifier object at 0x000002617ACFCCD0&gt;)],\n",
       "         verbose=False)</pre></div></div></div><div class=\"sk-serial\"><div class=\"sk-item sk-dashed-wrapped\"><div class=\"sk-label-container\"><div class=\"sk-label sk-toggleable\"><input class=\"sk-toggleable__control sk-hidden--visually\" id=\"sk-estimator-id-2\" type=\"checkbox\" ><label for=\"sk-estimator-id-2\" class=\"sk-toggleable__label sk-toggleable__label-arrow\">numerical_imputer: TransformerWrapper</label><div class=\"sk-toggleable__content\"><pre>TransformerWrapper(exclude=None,\n",
       "                   include=[&#x27;customer_id&#x27;, &#x27;credit_score&#x27;, &#x27;country&#x27;, &#x27;gender&#x27;,\n",
       "                            &#x27;age&#x27;, &#x27;tenure&#x27;, &#x27;balance&#x27;, &#x27;products_number&#x27;,\n",
       "                            &#x27;credit_card&#x27;, &#x27;active_member&#x27;,\n",
       "                            &#x27;estimated_salary&#x27;],\n",
       "                   transformer=SimpleImputer(add_indicator=False, copy=True,\n",
       "                                             fill_value=None,\n",
       "                                             keep_empty_features=False,\n",
       "                                             missing_values=nan,\n",
       "                                             strategy=&#x27;mean&#x27;,\n",
       "                                             verbose=&#x27;deprecated&#x27;))</pre></div></div></div><div class=\"sk-parallel\"><div class=\"sk-parallel-item\"><div class=\"sk-item\"><div class=\"sk-label-container\"><div class=\"sk-label sk-toggleable\"><input class=\"sk-toggleable__control sk-hidden--visually\" id=\"sk-estimator-id-3\" type=\"checkbox\" ><label for=\"sk-estimator-id-3\" class=\"sk-toggleable__label sk-toggleable__label-arrow\">transformer: SimpleImputer</label><div class=\"sk-toggleable__content\"><pre>SimpleImputer()</pre></div></div></div><div class=\"sk-serial\"><div class=\"sk-item\"><div class=\"sk-estimator sk-toggleable\"><input class=\"sk-toggleable__control sk-hidden--visually\" id=\"sk-estimator-id-4\" type=\"checkbox\" ><label for=\"sk-estimator-id-4\" class=\"sk-toggleable__label sk-toggleable__label-arrow\">SimpleImputer</label><div class=\"sk-toggleable__content\"><pre>SimpleImputer()</pre></div></div></div></div></div></div></div></div><div class=\"sk-item sk-dashed-wrapped\"><div class=\"sk-label-container\"><div class=\"sk-label sk-toggleable\"><input class=\"sk-toggleable__control sk-hidden--visually\" id=\"sk-estimator-id-5\" type=\"checkbox\" ><label for=\"sk-estimator-id-5\" class=\"sk-toggleable__label sk-toggleable__label-arrow\">categorical_imputer: TransformerWrapper</label><div class=\"sk-toggleable__content\"><pre>TransformerWrapper(exclude=None, include=[],\n",
       "                   transformer=SimpleImputer(add_indicator=False, copy=True,\n",
       "                                             fill_value=None,\n",
       "                                             keep_empty_features=False,\n",
       "                                             missing_values=nan,\n",
       "                                             strategy=&#x27;most_frequent&#x27;,\n",
       "                                             verbose=&#x27;deprecated&#x27;))</pre></div></div></div><div class=\"sk-parallel\"><div class=\"sk-parallel-item\"><div class=\"sk-item\"><div class=\"sk-label-container\"><div class=\"sk-label sk-toggleable\"><input class=\"sk-toggleable__control sk-hidden--visually\" id=\"sk-estimator-id-6\" type=\"checkbox\" ><label for=\"sk-estimator-id-6\" class=\"sk-toggleable__label sk-toggleable__label-arrow\">transformer: SimpleImputer</label><div class=\"sk-toggleable__content\"><pre>SimpleImputer(strategy=&#x27;most_frequent&#x27;)</pre></div></div></div><div class=\"sk-serial\"><div class=\"sk-item\"><div class=\"sk-estimator sk-toggleable\"><input class=\"sk-toggleable__control sk-hidden--visually\" id=\"sk-estimator-id-7\" type=\"checkbox\" ><label for=\"sk-estimator-id-7\" class=\"sk-toggleable__label sk-toggleable__label-arrow\">SimpleImputer</label><div class=\"sk-toggleable__content\"><pre>SimpleImputer(strategy=&#x27;most_frequent&#x27;)</pre></div></div></div></div></div></div></div></div><div class=\"sk-item\"><div class=\"sk-estimator sk-toggleable\"><input class=\"sk-toggleable__control sk-hidden--visually\" id=\"sk-estimator-id-8\" type=\"checkbox\" ><label for=\"sk-estimator-id-8\" class=\"sk-toggleable__label sk-toggleable__label-arrow\">CatBoostClassifier</label><div class=\"sk-toggleable__content\"><pre>&lt;catboost.core.CatBoostClassifier object at 0x000002617ACFCCD0&gt;</pre></div></div></div></div></div></div></div>"
      ],
      "text/plain": [
       "Pipeline(memory=FastMemory(location=C:\\Users\\AMBREE~1.HAN\\AppData\\Local\\Temp\\joblib),\n",
       "         steps=[('numerical_imputer',\n",
       "                 TransformerWrapper(exclude=None,\n",
       "                                    include=['customer_id', 'credit_score',\n",
       "                                             'country', 'gender', 'age',\n",
       "                                             'tenure', 'balance',\n",
       "                                             'products_number', 'credit_card',\n",
       "                                             'active_member',\n",
       "                                             'estimated_salary'],\n",
       "                                    transformer=SimpleImputer(add_indicator=False,\n",
       "                                                              copy=True...\n",
       "                                                              verbose='deprecated'))),\n",
       "                ('categorical_imputer',\n",
       "                 TransformerWrapper(exclude=None, include=[],\n",
       "                                    transformer=SimpleImputer(add_indicator=False,\n",
       "                                                              copy=True,\n",
       "                                                              fill_value=None,\n",
       "                                                              keep_empty_features=False,\n",
       "                                                              missing_values=nan,\n",
       "                                                              strategy='most_frequent',\n",
       "                                                              verbose='deprecated'))),\n",
       "                ('trained_model',\n",
       "                 <catboost.core.CatBoostClassifier object at 0x000002617ACFCCD0>)],\n",
       "         verbose=False)"
      ]
     },
     "execution_count": 24,
     "metadata": {},
     "output_type": "execute_result"
    }
   ],
   "source": [
    "# load pipeline\n",
    "loaded_best_pipeline = load_model('my_first_pipeline')\n",
    "loaded_best_pipeline"
   ]
  }
 ],
 "metadata": {
  "kernelspec": {
   "display_name": "venv",
   "language": "python",
   "name": "python3"
  },
  "language_info": {
   "codemirror_mode": {
    "name": "ipython",
    "version": 3
   },
   "file_extension": ".py",
   "mimetype": "text/x-python",
   "name": "python",
   "nbconvert_exporter": "python",
   "pygments_lexer": "ipython3",
   "version": "3.8.0"
  },
  "orig_nbformat": 4
 },
 "nbformat": 4,
 "nbformat_minor": 2
}
